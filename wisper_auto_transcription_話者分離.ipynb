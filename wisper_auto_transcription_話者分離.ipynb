{
  "cells": [
    {
      "cell_type": "markdown",
      "metadata": {
        "id": "view-in-github",
        "colab_type": "text"
      },
      "source": [
        "<a href=\"https://colab.research.google.com/github/bols-blue/google_colab/blob/main/wisper_auto_transcription_%E8%A9%B1%E8%80%85%E5%88%86%E9%9B%A2.ipynb\" target=\"_parent\"><img src=\"https://colab.research.google.com/assets/colab-badge.svg\" alt=\"Open In Colab\"/></a>"
      ]
    },
    {
      "cell_type": "markdown",
      "metadata": {
        "id": "ZVVf5nNG4N_-"
      },
      "source": [
        "とりあえずこれで動く"
      ]
    },
    {
      "cell_type": "code",
      "execution_count": null,
      "metadata": {
        "id": "rmXxxQ-manoj"
      },
      "outputs": [],
      "source": [
        "! apt-get install -y librosa-dev chex\n",
        "!python -V\n",
        "!pip install git+https://github.com/openai/whisper.git\n",
        "!pip install -qq https://github.com/pyannote/pyannote-audio/archive/refs/heads/develop.zip\n",
        "!pip install -qq ipython==7.34.0\n",
        "\n",
        "!pip install git+https://github.com/yinruiqing/pyannote-whisper\n"
      ]
    },
    {
      "cell_type": "markdown",
      "metadata": {
        "id": "liW8FuBfYLqy"
      },
      "source": [
        "google driveを追加して読み込めるように"
      ]
    },
    {
      "cell_type": "code",
      "execution_count": null,
      "metadata": {
        "id": "Z5_flVeAIjCe"
      },
      "outputs": [],
      "source": [
        "from google.colab import drive\n",
        "drive.mount('/content/drive')"
      ]
    },
    {
      "cell_type": "markdown",
      "metadata": {
        "id": "b-6AQVxuYQHI"
      },
      "source": [
        "ファイルの確認用"
      ]
    },
    {
      "cell_type": "code",
      "execution_count": null,
      "metadata": {
        "id": "sxSd54WTUAct"
      },
      "outputs": [],
      "source": [
        "!ls \"/content/drive/MyDrive/Meet Recordings\""
      ]
    },
    {
      "cell_type": "code",
      "execution_count": null,
      "metadata": {
        "id": "aEOHPZnwvuKo"
      },
      "outputs": [],
      "source": [
        "! ffmpeg -i /content/drive/file.mp4 -vn  -ac 1 ./output.wav"
      ]
    },
    {
      "cell_type": "code",
      "execution_count": null,
      "metadata": {
        "id": "OzyvaQTTMhX1"
      },
      "outputs": [],
      "source": [
        "import whisper\n",
        "from pyannote.audio import Pipeline\n",
        "from pyannote.audio import Audio\n",
        "from pyannote_whisper.utils import diarize_text\n",
        "\n",
        "pipeline = Pipeline.from_pretrained(\"pyannote/speaker-diarization\",\n",
        "                                    use_auth_token=\"your_token\")\n",
        "model = whisper.load_model(\"large\")\n",
        "diarization_result = pipeline(\"/content/output.wav\")\n",
        "\n",
        "from pyannote.audio import Audio\n",
        "audio = Audio(sample_rate=16000, mono=True)\n",
        "audio_file = \"/content/output.wav\"\n",
        "write_text = \"\"\n",
        "for segment, _, speaker in diarization_result.itertracks(yield_label=True):\n",
        "    waveform, sample_rate = audio.crop(audio_file, segment)\n",
        "    text = model.transcribe(waveform.squeeze().numpy(), language=\"ja\")[\"text\"]\n",
        "    print(f\"{segment.start:.2f}s {segment.end:.2f}s {speaker}: {text}\")\n",
        "    write_text += f\"{segment.start:.2f}s {segment.end:.2f}s {speaker}: {text}\\n\"\n",
        "\n",
        "with open(f\"file.mp4.diarization.txt\", \"w\") as f:\n",
        "    f.write(write_text)\n",
        "\n",
        "runtime.unassign()"
      ]
    },
    {
      "cell_type": "markdown",
      "source": [
        "# 新しいセクション"
      ],
      "metadata": {
        "id": "lowPM4z9ldQa"
      }
    }
  ],
  "metadata": {
    "accelerator": "GPU",
    "colab": {
      "machine_shape": "hm",
      "provenance": [],
      "private_outputs": true,
      "gpuType": "A100",
      "toc_visible": true,
      "authorship_tag": "ABX9TyMkeC4Kr65mmXF50KcUKk7J",
      "include_colab_link": true
    },
    "kernelspec": {
      "display_name": "Python 3",
      "name": "python3"
    },
    "language_info": {
      "name": "python"
    }
  },
  "nbformat": 4,
  "nbformat_minor": 0
}